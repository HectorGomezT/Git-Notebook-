{
 "cells": [
  {
   "cell_type": "markdown",
   "metadata": {},
   "source": [
    "## ISSUES\n",
    "In Git (specifically on platforms like GitHub, GitLab, and Bitbucket), Issues are used to track bugs, feature requests, improvements, and general project discussions. They work as a task management system inside a repository."
   ]
  },
  {
   "cell_type": "markdown",
   "metadata": {},
   "source": [
    "# How to create issues on GitHub\n",
    "* Go to the repository.\n",
    "* Click the \"Issues\" tab.\n",
    "* Click \"New Issue\".\n",
    "* Add a title, description, and optional labels.\n",
    "* Click \"Submit new issue\".\n"
   ]
  },
  {
   "cell_type": "markdown",
   "metadata": {},
   "source": [
    "Issues use numbers as identifiers "
   ]
  },
  {
   "cell_type": "markdown",
   "metadata": {},
   "source": [
    "# How to close an issue with a commit: a step by step approach\n",
    "\n",
    "A. # git commit -a #\n",
    "\n",
    "B. An editor opens.\n",
    "\n",
    "C. Write the commit message and then include the name of the issue and its number identifier. \n",
    "\n",
    "D. Close the editor. \n",
    "\n",
    "E. You will see on GitHub the issue has been closed. "
   ]
  }
 ],
 "metadata": {
  "language_info": {
   "name": "python"
  }
 },
 "nbformat": 4,
 "nbformat_minor": 2
}
