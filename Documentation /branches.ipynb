{
 "cells": [
  {
   "cell_type": "markdown",
   "metadata": {},
   "source": [
    "## branch\n",
    "\n",
    "A pointer to a particular commit."
   ]
  },
  {
   "cell_type": "markdown",
   "metadata": {},
   "source": [
    "# git branch <title>\n",
    "create a new branch"
   ]
  },
  {
   "cell_type": "markdown",
   "metadata": {},
   "source": [
    "# git checkout <branch_name>\n",
    "# git checkout <file_name>\n",
    "To check out the latest snapshot for both files and for branches."
   ]
  },
  {
   "cell_type": "markdown",
   "metadata": {},
   "source": [
    "## note\n",
    "if git is pointing at the master branch, and we run the command git log it will not show the latest commits made in other branches. "
   ]
  },
  {
   "cell_type": "markdown",
   "metadata": {},
   "source": [
    "# git checkout -b <new_branch_name>\n",
    "To create and move to a new branch"
   ]
  },
  {
   "cell_type": "markdown",
   "metadata": {},
   "source": [
    "# git merge\n",
    "Once our new branch is ready and has the changes we need we can merge it with the main branch. Now both branches sill point to the same commit."
   ]
  },
  {
   "cell_type": "markdown",
   "metadata": {},
   "source": [
    "There are 2 types of merges:\n",
    "- fast forward: history hasn't diverged \n",
    "- three way: history has diverged"
   ]
  },
  {
   "cell_type": "markdown",
   "metadata": {},
   "source": [
    "![fast forward](\"img/image.png\")"
   ]
  },
  {
   "cell_type": "markdown",
   "metadata": {},
   "source": [
    "![three-way](\"img/imagecopy.png\")"
   ]
  },
  {
   "cell_type": "code",
   "execution_count": null,
   "metadata": {
    "vscode": {
     "languageId": "plaintext"
    }
   },
   "outputs": [],
   "source": [
    "Remember that git status is always there to analyze merging conflicts "
   ]
  },
  {
   "cell_type": "markdown",
   "metadata": {},
   "source": [
    "# git merge --abort\n",
    "This line can only be used after a merging conflicts. It will stop the merge and try to go back to the previous state. "
   ]
  },
  {
   "cell_type": "code",
   "execution_count": null,
   "metadata": {
    "vscode": {
     "languageId": "plaintext"
    }
   },
   "outputs": [],
   "source": [
    "# git branch -d <branch_name>\n",
    "To delete a branch\n",
    "# git branch -D <branch name>\n",
    "To force a branch deletion"
   ]
  },
  {
   "cell_type": "markdown",
   "metadata": {},
   "source": [
    "## Pull and Push"
   ]
  },
  {
   "cell_type": "markdown",
   "metadata": {},
   "source": [
    "# git push -u origin <branch_name>\n",
    "If the branch refactor doesn't exist in the remote repository, this command creates it.\n",
    "If the branch refactor already exists, it pushes your local changes to it.\n",
    "The -u option makes sure that future git pull or git push commands automatically track origin/refactor, so you don’t have to specify it every time."
   ]
  }
 ],
 "metadata": {
  "language_info": {
   "name": "python"
  }
 },
 "nbformat": 4,
 "nbformat_minor": 2
}
