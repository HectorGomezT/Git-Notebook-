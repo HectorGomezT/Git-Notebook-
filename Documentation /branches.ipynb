{
 "cells": [
  {
   "cell_type": "markdown",
   "metadata": {},
   "source": [
    "## branch\n",
    "\n",
    "A pointer to a particular commit."
   ]
  },
  {
   "cell_type": "markdown",
   "metadata": {},
   "source": [
    "# git branch <title>\n",
    "create a new branch"
   ]
  },
  {
   "cell_type": "markdown",
   "metadata": {},
   "source": [
    "# git checkout <branch_name>\n",
    "# git checkout <file_name>\n",
    "To check out the latest snapshot for both files and for branches."
   ]
  },
  {
   "cell_type": "markdown",
   "metadata": {},
   "source": [
    "## note\n",
    "if git is pointing at the master branch, and we run the command git log it will not show the latest commits made in other branches. "
   ]
  },
  {
   "cell_type": "markdown",
   "metadata": {},
   "source": [
    "# git checkout -b <new_branch_name>\n",
    "To create and move to a new branch"
   ]
  },
  {
   "cell_type": "markdown",
   "metadata": {},
   "source": [
    "# git merge\n",
    "Once our new branch is ready and has the changes we need we can merge it with the main branch. Now both branches sill point to the same commit."
   ]
  },
  {
   "cell_type": "markdown",
   "metadata": {},
   "source": [
    "There are 2 types of merges:\n",
    "- fast forward: history hasn't diverged \n",
    "- three way: history has diverged"
   ]
  },
  {
   "cell_type": "markdown",
   "metadata": {},
   "source": [
    "![title](\"img/image.png\")"
   ]
  },
  {
   "cell_type": "markdown",
   "metadata": {},
   "source": [
    "![title](\"img/imagecopy.png\")"
   ]
  },
  {
   "cell_type": "code",
   "execution_count": null,
   "metadata": {
    "vscode": {
     "languageId": "plaintext"
    }
   },
   "outputs": [],
   "source": [
    "Remember that git status is always there to analyze merging conflicts "
   ]
  }
 ],
 "metadata": {
  "language_info": {
   "name": "python"
  }
 },
 "nbformat": 4,
 "nbformat_minor": 2
}
