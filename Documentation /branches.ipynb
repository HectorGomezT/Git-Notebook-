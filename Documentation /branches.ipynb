{
 "cells": [
  {
   "cell_type": "markdown",
   "metadata": {},
   "source": [
    "## branch\n",
    "\n",
    "A pointer to a particular commit."
   ]
  },
  {
   "cell_type": "markdown",
   "metadata": {},
   "source": [
    "# git branch <title>\n",
    "create a new branch"
   ]
  },
  {
   "cell_type": "markdown",
   "metadata": {},
   "source": [
    "# git checkout <branch_name>\n",
    "# git checkout <file_name>\n",
    "To check out the latest snapshot for both files and for branches."
   ]
  },
  {
   "cell_type": "markdown",
   "metadata": {},
   "source": [
    "## note\n",
    "if git is pointing at the master branch, and we run the command git log it will not show the latest commits made in other branches. "
   ]
  },
  {
   "cell_type": "markdown",
   "metadata": {},
   "source": [
    "# git checkout -b <new_branch_name>\n",
    "To create and move to a new branch"
   ]
  },
  {
   "cell_type": "markdown",
   "metadata": {},
   "source": [
    "# git merge\n",
    "Once our new branch is ready and has the changes we need we can merge it with the main branch. Now both branches sill point to the same commit."
   ]
  },
  {
   "cell_type": "markdown",
   "metadata": {},
   "source": [
    "There are 2 types of merges:\n",
    "- fast forward: history hasn't diverged \n",
    "- three way: history has diverged"
   ]
  },
  {
   "cell_type": "markdown",
   "metadata": {},
   "source": [
    "![fast forward](\"img/image.png\")"
   ]
  },
  {
   "cell_type": "markdown",
   "metadata": {},
   "source": [
    "![three-way](\"img/imagecopy.png\")"
   ]
  },
  {
   "cell_type": "code",
   "execution_count": null,
   "metadata": {
    "vscode": {
     "languageId": "plaintext"
    }
   },
   "outputs": [],
   "source": [
    "Remember that git status is always there to analyze merging conflicts "
   ]
  },
  {
   "cell_type": "markdown",
   "metadata": {},
   "source": [
    "# git merge --abort\n",
    "This line can only be used after a merging conflicts. It will stop the merge and try to go back to the previous state. "
   ]
  },
  {
   "cell_type": "code",
   "execution_count": null,
   "metadata": {
    "vscode": {
     "languageId": "plaintext"
    }
   },
   "outputs": [],
   "source": [
    "# git branch -d <branch_name>\n",
    "To delete a branch\n",
    "# git branch -D <branch name>\n",
    "To force a branch deletion"
   ]
  },
  {
   "cell_type": "markdown",
   "metadata": {},
   "source": [
    "## Pull and Push"
   ]
  },
  {
   "cell_type": "markdown",
   "metadata": {},
   "source": [
    "# BASIC USE\n",
    "# git push <remote> <branch>\n",
    "Uploads your local commits to a remote repository, such as GitHub, GitLab, or Bitbucket. It updates the remote branch with your local changes.\n",
    "<remote> → The name of the remote repository (e.g., origin).\n",
    "<branch> → The branch you want to push (e.g., main, feature-branch).\n"
   ]
  },
  {
   "cell_type": "markdown",
   "metadata": {},
   "source": [
    "# git push -u origin <branch_name>\n",
    "If the branch refactor doesn't exist in the remote repository, this command creates it.\n",
    "If the branch refactor already exists, it pushes your local changes to it.\n",
    "The -u option makes sure that future git pull or git push commands automatically track origin/refactor, so you don’t have to specify it every time."
   ]
  },
  {
   "cell_type": "markdown",
   "metadata": {},
   "source": [
    "# git push --delete origin <remote_branch>\n",
    "To delete a branch that has already been merged"
   ]
  },
  {
   "cell_type": "markdown",
   "metadata": {},
   "source": [
    "# git push -f or git push --force\n",
    "Forcefully updates the remote branch by overwriting its history with your local branch.\n",
    "\n",
    "What It Does:\n",
    "It overwrites the remote branch with your local branch, discarding any remote commits that are not in your local branch.\n",
    "It's useful when you've rewritten history locally using commands like git rebase or git reset."
   ]
  },
  {
   "cell_type": "markdown",
   "metadata": {},
   "source": [
    "FIRST STEP:\n",
    "# git rebase <branch_name>\n",
    "This command rebases your current branch on top of <branch_name>, meaning it moves your commits to start from the latest commit in <branch_name>.\n",
    "\n",
    "SECOND STEP:\n",
    "Fix changes manually.\n",
    "\n",
    "THIRD STEP:\n",
    "# git rebase --continue\n",
    "This command is used during an ongoing rebase when Git encounters a conflict. It tells Git to proceed with the rebase after you've manually resolved the conflicts."
   ]
  },
  {
   "cell_type": "markdown",
   "metadata": {},
   "source": [
    "# git rebase -i \n",
    "This is an interactive rebase. This will open a text editor. \n",
    "\n",
    "Here you can modify the actions done by rebase:  \n",
    "1. **pick** – Keep the commit as is.  \n",
    "2. **squash** – Merge the commit into the previous one (keeps changes but combines commit messages).  \n",
    "3. **reword** – Keep the commit but edit the commit message.  \n",
    "4. **edit** – Pause rebase at this commit, allowing you to modify changes before continuing.  \n",
    "5. **drop** – Remove the commit entirely from history.  \n",
    "6. **fixup** – Like `squash`, but discards the commit message.  \n",
    "7. **exec** – Run a shell command at that point in the rebase.  "
   ]
  },
  {
   "cell_type": "markdown",
   "metadata": {},
   "source": [
    "# git fetch \n",
    "Will put the latest changes in the origin/master branch"
   ]
  },
  {
   "cell_type": "markdown",
   "metadata": {},
   "source": [
    "# git log --oneline --graph --all --decorate\n",
    "To see a graph of the latest modifications \n",
    "--oneline → Shows each commit in one line.\n",
    "--graph → Displays a graphical representation of branches and merges.\n",
    "--all → Includes all branches, not just the current one.\n",
    "--decorate → Shows branch names and tags."
   ]
  },
  {
   "cell_type": "markdown",
   "metadata": {},
   "source": [
    "# A PIECE OF ADVISE:\n",
    "Regularly merge changes made on the main branch back onto the feature branch, especially before making any new changes on your own. \n",
    "\n",
    "# Tips for solving merge conflicts\n",
    "Here are some tips to keep in mind when resolving merge conflicts:\n",
    "\n",
    "1. After running git merge, a message will appear indicating that a conflict has occurred in the file.\n",
    "\n",
    "2. Read the error messages that indicate you cannot push your local changes to GitHub, especially remote changes with git pull.\n",
    "\n",
    "3. Use the command line or GitHub Desktop to push the change to your branch on GitHub after making a local clone of the repository for all other types of merge conflicts.\n",
    "\n",
    "4. Before merging any commit into the main branch, push it to a remote repository so collaborators can review the code, test it, and confirm that it's ready to be merged.\n",
    "\n",
    "5. Use the git rebase command to replay the new commits onto the new base, and then merge the feature branch back into the main branch."
   ]
  },
  {
   "cell_type": "markdown",
   "metadata": {},
   "source": [
    "# A PRACTICAL EXAMPLE \n",
    "Let's imagine you've created a new file in your local repository, you will use:\n",
    "\n",
    "# git push origin main \n",
    "\n",
    "to push local changes to the remote repository.\n",
    "\n",
    "You then receive an error because there are new changes on a remote repository, but these changes are not in your local respository. \n",
    "\n",
    "So you use...\n",
    "\n",
    "# git pull origin main\n",
    "\n",
    "to send changes from the local to the remote repository.\n"
   ]
  },
  {
   "cell_type": "markdown",
   "metadata": {},
   "source": [
    "# git commit -a --amend\n",
    "* git commit -a: Automatically stages all modified and deleted tracked files (but not new untracked files).\n",
    "* --amend: Modifies the last commit instead of creating a new one.\n",
    "# git fetch \n",
    "Will put the latest changes in the origin/master branch"
   ]
  }
 ],
 "metadata": {
  "language_info": {
   "name": "python"
  }
 },
 "nbformat": 4,
 "nbformat_minor": 2
}
