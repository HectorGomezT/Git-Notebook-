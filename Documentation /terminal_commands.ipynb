{
 "cells": [
  {
   "cell_type": "markdown",
   "metadata": {},
   "source": [
    "                                        **TERMINAL COMMANDS**"
   ]
  },
  {
   "cell_type": "code",
   "execution_count": null,
   "metadata": {
    "vscode": {
     "languageId": "html"
    }
   },
   "outputs": [],
   "source": [
    "<ul>\n",
    "\n",
    "    <li> ls - List directory content\n",
    "            Shows files and folders in the current directory              \n",
    "    </li>\n",
    "\n",
    "    <li> cd - Change directory \n",
    "            Moves to a diferent directory \n",
    "    </li>\n",
    "\n",
    "    <li> cd .. - Change directory \n",
    "            Moves up one directory level \n",
    "    </li>\n",
    "\n",
    "    <li> pwd - Prints working directory \n",
    "            Displays the current directory path \n",
    "    </li>\n",
    "\n",
    "    <li> mkdir - Makes directory \n",
    "            Creates a new directory \n",
    "    </li>\n",
    "\n",
    "    <li> rm -r - Remove recursively \n",
    "            Deletes a directory and its content \n",
    "    </li>\n",
    "\n",
    "    <li> cp - Copy files or directory \n",
    "            Copies files/folders from one location to another \n",
    "    </li>\n",
    "\n",
    "    <li> mv - Move or rename files \n",
    "            Moves or renames files/folders\n",
    "    </li>\n",
    "\n",
    "    <li> touch - Create an empty file\n",
    "            Creates a new empty file\n",
    "    </li>\n",
    "\n",
    "    <li> find - Search for files \n",
    "            Locates files in a directory tree \n",
    "    </li>\n",
    "</ul>"
   ]
  }
 ],
 "metadata": {
  "kernelspec": {
   "display_name": "Python 3",
   "language": "python",
   "name": "python3"
  },
  "language_info": {
   "codemirror_mode": {
    "name": "ipython",
    "version": 3
   },
   "file_extension": ".py",
   "mimetype": "text/x-python",
   "name": "python",
   "nbconvert_exporter": "python",
   "pygments_lexer": "ipython3",
   "version": "3.9.6"
  }
 },
 "nbformat": 4,
 "nbformat_minor": 2
}
