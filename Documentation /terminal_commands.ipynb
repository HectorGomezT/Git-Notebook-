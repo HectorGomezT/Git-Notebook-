{
 "cells": [
  {
   "cell_type": "code",
   "execution_count": null,
   "metadata": {
    "vscode": {
     "languageId": "html"
    }
   },
   "outputs": [],
   "source": [
    "<h1><b>TERMINAL COMMANDS</b></h1>\n",
    "\n",
    "<ul>\n",
    "    <li> cd - List directory content\n",
    "            Shows files and folders in the current directory              \n",
    "    </li>\n",
    "</ul>"
   ]
  }
 ],
 "metadata": {
  "language_info": {
   "name": "python"
  }
 },
 "nbformat": 4,
 "nbformat_minor": 2
}
