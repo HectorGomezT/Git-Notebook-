{
 "cells": [
  {
   "cell_type": "markdown",
   "metadata": {},
   "source": [
    "Problem: Cannot do Pull from the repository even tho im a colaborator \n",
    "\n",
    "git pull is a command used in Git to fetch changes from a remote repository and merge them into your local branch.\n",
    "\n",
    "If you are on main \n",
    "git pull \n",
    "\n",
    "If you are on a dfferent branch and the chages you wanna pull are form another branch \n",
    "git pull <remote><branch>\n",
    "git pull origin main "
   ]
  }
 ],
 "metadata": {
  "language_info": {
   "name": "python"
  }
 },
 "nbformat": 4,
 "nbformat_minor": 2
}
