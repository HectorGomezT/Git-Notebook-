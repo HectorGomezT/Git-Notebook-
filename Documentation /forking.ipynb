{
 "cells": [
  {
   "cell_type": "markdown",
   "metadata": {},
   "source": [
    "## FORKING\n",
    "A way of creating a copy of the given repository so that it belongs to our user. \n"
   ]
  },
  {
   "cell_type": "markdown",
   "metadata": {},
   "source": [
    "# Pull request \n",
    "A commit or series of commits at you send to the owner of the repo so that they incorporate it to their tree. \n",
    "\n",
    "When doing this on GitHub, there's a checkbox that says:\n",
    "\n",
    "'Allow edits from maintainers'\n",
    "\n",
    "If checked, maintainers can commit changes, rebase, or update your PR branch without needing you to do it.\n",
    "This is useful if they want to make small tweaks, fix conflicts, or adjust code formatting without asking you to do it manually."
   ]
  }
 ],
 "metadata": {
  "language_info": {
   "name": "python"
  }
 },
 "nbformat": 4,
 "nbformat_minor": 2
}
