{
 "cells": [
  {
   "cell_type": "markdown",
   "metadata": {},
   "source": [
    "# API\n",
    "A set of rules that allows different applications to communicate. APIs define how requests and responses should be structured. Example: GitHub API lets you interact with repositories programmatically.\n"
   ]
  },
  {
   "cell_type": "markdown",
   "metadata": {},
   "source": [
    "# API key\n",
    "A unique identifier used to authenticate requests to an API. It acts like a password for accessing an API’s services. Example: OpenWeather API requires an API key to get weather data."
   ]
  },
  {
   "cell_type": "markdown",
   "metadata": {},
   "source": [
    "# SSH\n",
    "A secure protocol used for remote access and secure communication between computers. It encrypts data and is commonly used for connecting to remote servers and GitHub."
   ]
  },
  {
   "cell_type": "markdown",
   "metadata": {},
   "source": [
    "# SSH keys\n",
    "A pair of cryptographic keys (public & private) used for authentication. Instead of passwords, GitHub and servers use SSH keys for secure login. Example: Adding an SSH key to GitHub allows you to git push without entering credentials."
   ]
  },
  {
   "cell_type": "markdown",
   "metadata": {},
   "source": [
    "# Public key \n",
    "The \"lock\"—you share it with servers (e.g., GitHub, remote servers). Anyone with this key cannot access your system but can verify your identity."
   ]
  },
  {
   "cell_type": "markdown",
   "metadata": {},
   "source": [
    "# Private key \n",
    "The \"key\"—kept secret on your computer. This is what authenticates you when connecting to a remote system. Never share this key!"
   ]
  }
 ],
 "metadata": {
  "language_info": {
   "name": "python"
  }
 },
 "nbformat": 4,
 "nbformat_minor": 2
}
