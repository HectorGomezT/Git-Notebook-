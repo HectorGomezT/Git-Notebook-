{
 "cells": [
  {
   "cell_type": "code",
   "execution_count": null,
   "metadata": {
    "vscode": {
     "languageId": "plaintext"
    }
   },
   "outputs": [],
   "source": [
    "# revert changes"
   ]
  },
  {
   "cell_type": "markdown",
   "metadata": {},
   "source": [
    "git checkout <file>\n",
    "Reverts changes to a specific file in your working directory, resetting it to the last committed version. Useful if you made unwanted edits and want to discard them."
   ]
  },
  {
   "cell_type": "markdown",
   "metadata": {},
   "source": [
    "git revert identifier\n",
    "Creates a new commit that undoes the changes introduced by a previous commit. Unlike reset, it doesn’t rewrite history, making it safer for shared branches."
   ]
  },
  {
   "cell_type": "markdown",
   "metadata": {},
   "source": [
    "git commit --ammend\n",
    "Modifies the most recent commit, allowing you to change the commit message or include additional changes. Useful for fixing mistakes in the last commit."
   ]
  },
  {
   "cell_type": "markdown",
   "metadata": {},
   "source": [
    "git reset\n",
    "Moves the branch pointer to an earlier commit. It can be used to undo commits while keeping or discarding changes (soft, mixed, or hard reset)."
   ]
  }
 ],
 "metadata": {
  "language_info": {
   "name": "python"
  }
 },
 "nbformat": 4,
 "nbformat_minor": 2
}
