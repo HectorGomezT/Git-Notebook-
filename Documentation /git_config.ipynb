{
 "cells": [
  {
   "cell_type": "markdown",
   "metadata": {},
   "source": [
    "# git config"
   ]
  },
  {
   "cell_type": "markdown",
   "metadata": {},
   "source": [
    "## git config --global user.name \"Your Name\"\n",
    "Sets your global Git username (used for commits)."
   ]
  },
  {
   "cell_type": "markdown",
   "metadata": {},
   "source": [
    "## git config --global user.email \"your.email@example.com\"\n",
    "Sets your global Git email (must match your GitHub email for commits to be verified)."
   ]
  }
 ],
 "metadata": {
  "language_info": {
   "name": "python"
  }
 },
 "nbformat": 4,
 "nbformat_minor": 2
}
